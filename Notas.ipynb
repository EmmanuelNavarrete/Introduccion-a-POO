{
 "cells": [
  {
   "attachments": {},
   "cell_type": "markdown",
   "metadata": {},
   "source": [
    "# Introducción a Programacion orientada a objetos"
   ]
  },
  {
   "attachments": {},
   "cell_type": "markdown",
   "metadata": {},
   "source": [
    "Orientacion a objetos es un paradigma de programacion que se basa en el concepto de objetos, que pueden contener datos, en forma de campos, a menudo llamados atributos; y codigo, en forma de procedimientos, a menudo llamados metodos.\n",
    "\n",
    "¿Que seria en realidad un objeto?\n",
    "R = Es la representacion de un objeto real, por ejemplo, un coche, un perro, un ordenador, etc. lo cual contiene atributos (color, marca, modelo, etc.) y metodos (arrancar, frenar, etc.)\n",
    "\n"
   ]
  },
  {
   "attachments": {},
   "cell_type": "markdown",
   "metadata": {},
   "source": [
    "***"
   ]
  },
  {
   "attachments": {},
   "cell_type": "markdown",
   "metadata": {},
   "source": [
    "## Proyecto : Banco"
   ]
  },
  {
   "attachments": {},
   "cell_type": "markdown",
   "metadata": {},
   "source": [
    "![image.png](images/cuenta.png)"
   ]
  },
  {
   "attachments": {},
   "cell_type": "markdown",
   "metadata": {},
   "source": [
    "**Clase Cuenta**\n",
    "Tendrea los siguientes atributos:\n",
    "- saldo\n",
    "- agencia\n",
    "- numero\n",
    "- titular"
   ]
  },
  {
   "attachments": {},
   "cell_type": "markdown",
   "metadata": {},
   "source": [
    "![image.png](images/cuenta-intancias.png)"
   ]
  },
  {
   "attachments": {},
   "cell_type": "markdown",
   "metadata": {},
   "source": [
    "Cuando se trata de atributos que van a contener un tipo de datos primitivo, como un entero, un booleano, un string, etc. se recomienda que se inicialicen en el constructor, para que no se queden con valores nulos.\n",
    "\n",
    " primeraCuenta = new Cuenta();\n",
    "\n",
    " Se necesita escribir de la siguiente manera:\n",
    "\n",
    " **Cuenta primeraCuenta = new Cuenta();**\n",
    "Para decirle a java que se va a crear un objeto de tipo Cuenta, y que se va a almacenar en la variable primeraCuenta.\n"
   ]
  }
 ],
 "metadata": {
  "language_info": {
   "name": "python"
  },
  "orig_nbformat": 4
 },
 "nbformat": 4,
 "nbformat_minor": 2
}
